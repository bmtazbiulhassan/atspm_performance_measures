{
 "cells": [
  {
   "cell_type": "markdown",
   "metadata": {
    "vscode": {
     "languageId": "plaintext"
    }
   },
   "source": [
    "# Import Libraries"
   ]
  },
  {
   "cell_type": "code",
   "execution_count": 1,
   "metadata": {},
   "outputs": [],
   "source": [
    "import warnings\n",
    "warnings.simplefilter(action='ignore', category=FutureWarning)"
   ]
  },
  {
   "cell_type": "code",
   "execution_count": 2,
   "metadata": {},
   "outputs": [],
   "source": [
    "import numpy as np\n",
    "import pandas as pd\n",
    "import psutil\n",
    "import tqdm\n",
    "import yaml\n",
    "import glob\n",
    "import os\n",
    "import gc\n",
    "\n",
    "from datetime import datetime\n",
    "from multiprocessing import Pool\n",
    "from IPython.display import clear_output"
   ]
  },
  {
   "cell_type": "code",
   "execution_count": 9,
   "metadata": {},
   "outputs": [],
   "source": [
    "import plotly.io as pio\n",
    "# pio.renderers.default = \"notebook\"\n",
    "# pio.renderers.default = \"notebook_connected\"\n",
    "pio.renderers.default = \"iframe\"\n",
    "\n",
    "import plotly.graph_objects as go\n",
    "import plotly.express as px\n",
    "\n",
    "from plotly.subplots import make_subplots"
   ]
  },
  {
   "cell_type": "code",
   "execution_count": 3,
   "metadata": {},
   "outputs": [],
   "source": [
    "from src.components.feature_extraction import data_quality_check\n",
    "from src.utils import get_root_directory"
   ]
  },
  {
   "cell_type": "code",
   "execution_count": 4,
   "metadata": {},
   "outputs": [],
   "source": [
    "# Get root directory of the project\n",
    "root_dir = get_root_directory()"
   ]
  },
  {
   "cell_type": "code",
   "execution_count": 5,
   "metadata": {},
   "outputs": [],
   "source": [
    "# Maximize Column Display \n",
    "pd.set_option('display.max_colwidth', None)     # Display all content within each cell without truncation\n",
    "pd.set_option('display.max_columns', None)      # Display all columns\n",
    "pd.set_option('display.width', None)            # Display entire width of DataFrame is displayed\n",
    "\n",
    "pd.set_option('display.max_rows', None)         # Display all rows"
   ]
  },
  {
   "cell_type": "code",
   "execution_count": 6,
   "metadata": {},
   "outputs": [
    {
     "name": "stdout",
     "output_type": "stream",
     "text": [
      "Current CPU usage: 7.6%\n",
      "CPU usage per core: [4.0, 3.0, 5.0, 6.1, 8.1, 13.0, 6.0, 12.1, 2.0, 7.1, 8.9, 14.0]\n",
      "Total CPU cores: 12\n"
     ]
    }
   ],
   "source": [
    "# Get the current CPU usage as a percentage\n",
    "cpu_usage = psutil.cpu_percent(interval=1)  # Interval of 1 second\n",
    "print(f\"Current CPU usage: {cpu_usage}%\")\n",
    "\n",
    "# Get the per-core usage\n",
    "cpu_per_core = psutil.cpu_percent(interval=1, percpu=True)\n",
    "print(f\"CPU usage per core: {cpu_per_core}\")\n",
    "\n",
    "# Get the total number of cores\n",
    "cpu_cores = psutil.cpu_count()\n",
    "print(f\"Total CPU cores: {cpu_cores}\")"
   ]
  },
  {
   "cell_type": "markdown",
   "metadata": {},
   "source": [
    "# Data Quality Check"
   ]
  },
  {
   "cell_type": "markdown",
   "metadata": {},
   "source": [
    "## FDOT D5"
   ]
  },
  {
   "cell_type": "code",
   "execution_count": 7,
   "metadata": {
    "scrolled": true
   },
   "outputs": [],
   "source": [
    "# Configurations\n",
    "signal_ids = [\n",
    "    \"1285\", \"1290\",\n",
    "    \"1300\", \"1315\", \"1325\", \"1330\", \n",
    "    \"1455\", \"1470\", \"1490\",\n",
    "    \"1500\", \"1555\",\n",
    "    \"1707\", \"1725\", \"1790\", \"1795\", \n",
    "    \"1960\",\n",
    "    \"2055\", \n",
    "    \"2485\", \n",
    "    \"2665\", \n",
    "    # \"D5I-3000\"\n",
    "]"
   ]
  },
  {
   "cell_type": "code",
   "execution_count": null,
   "metadata": {
    "scrolled": true
   },
   "outputs": [
    {
     "name": "stdout",
     "output_type": "stream",
     "text": [
      "Processing Signal ID: 2665\n",
      "========================================\n",
      "  Processing Date: 2024-06-02\n",
      "  Processing Date: 2024-06-03\n",
      "  Processing Date: 2024-06-04\n",
      "  Processing Date: 2024-06-05\n",
      "  Processing Date: 2024-06-06\n",
      "  Processing Date: 2024-06-07\n"
     ]
    }
   ],
   "source": [
    "for signal_id in signal_ids:\n",
    "    print(f\"Processing Signal ID: {signal_id}\")\n",
    "    print(\"=\" * 40)\n",
    "\n",
    "    # Define the filepaths\n",
    "    filepaths = f\"../data/interim/atspm/fdot_d5/event_data/{signal_id}/*.pkl\"\n",
    "    filepaths = [p for p in glob.glob(filepaths)][1:]  # Exclude first file, if needed\n",
    "\n",
    "    # Extract dates from filepaths\n",
    "    dates = [os.path.basename(filepath).split(\".\")[0] for filepath in filepaths]\n",
    "\n",
    "    for date in dates:\n",
    "        print(f\"  Processing Date: {date}\")\n",
    "\n",
    "        try:\n",
    "            # Parse the date string into a datetime object\n",
    "            date_object = datetime.strptime(date, '%Y-%m-%d')\n",
    "\n",
    "            # Extract day, month, and year\n",
    "            day = date_object.day\n",
    "            month = date_object.month\n",
    "            year = date_object.year\n",
    "\n",
    "            if month != 6:\n",
    "                continue\n",
    "\n",
    "            # Check data quality\n",
    "            checker = data_quality_check.DataQualityCheck(event_type=\"vehicle_signal\")\n",
    "            checker.check_data_quality(signal_id=signal_id, \n",
    "                                       day=day, month=month, year=year)\n",
    "\n",
    "        except Exception as e:\n",
    "            print(f\"Error Processing Date {date}: {e}\")\n",
    "\n",
    "    # Explicitly call garbage collector\n",
    "    gc.collect()\n",
    "\n",
    "    # Clear output after processing each Signal ID\n",
    "    clear_output(wait=True)"
   ]
  },
  {
   "cell_type": "markdown",
   "metadata": {},
   "source": [
    "## FDOT D7"
   ]
  },
  {
   "cell_type": "code",
   "execution_count": null,
   "metadata": {},
   "outputs": [],
   "source": []
  },
  {
   "cell_type": "code",
   "execution_count": null,
   "metadata": {},
   "outputs": [],
   "source": []
  },
  {
   "cell_type": "code",
   "execution_count": null,
   "metadata": {},
   "outputs": [],
   "source": []
  },
  {
   "cell_type": "code",
   "execution_count": null,
   "metadata": {},
   "outputs": [],
   "source": []
  },
  {
   "cell_type": "code",
   "execution_count": null,
   "metadata": {},
   "outputs": [],
   "source": []
  },
  {
   "cell_type": "code",
   "execution_count": null,
   "metadata": {},
   "outputs": [],
   "source": []
  },
  {
   "cell_type": "markdown",
   "metadata": {},
   "source": [
    "# Visualization"
   ]
  },
  {
   "cell_type": "code",
   "execution_count": 24,
   "metadata": {},
   "outputs": [],
   "source": [
    "filepaths = \"../data/production/atspm/fdot_d5/data_quality_check/vehicle_signal/*.csv\"\n",
    "filepaths = [p for p in glob.glob(filepaths)]\n",
    "\n",
    "df_data_quality_check = pd.DataFrame()\n",
    "\n",
    "for filepath in filepaths:\n",
    "    df_data_quality_check_id  = pd.read_csv(filepath)\n",
    "\n",
    "    df_data_quality_check = (\n",
    "        pd.concat([df_data_quality_check, df_data_quality_check_id], axis=0, ignore_index=True)\n",
    "    )\n",
    "\n",
    "# print(df_data_quality_check.shape)\n",
    "# df_data_quality_check.head()"
   ]
  },
  {
   "cell_type": "code",
   "execution_count": 25,
   "metadata": {},
   "outputs": [],
   "source": [
    "df_data_quality_check = (\n",
    "    df_data_quality_check.groupby([\"signalID\", \"date\"])\n",
    "    .agg(\n",
    "        errorSequencePercent=(\"errorSequencePercent\", \"mean\"),\n",
    "        correctSequencePercent=(\"correctSequencePercent\", \"mean\")\n",
    "    )\n",
    "    .reset_index()\n",
    ")"
   ]
  },
  {
   "cell_type": "code",
   "execution_count": 55,
   "metadata": {},
   "outputs": [
    {
     "data": {
      "text/html": [
       "<iframe\n",
       "    scrolling=\"no\"\n",
       "    width=\"1420px\"\n",
       "    height=\"620\"\n",
       "    src=\"iframe_figures/figure_55.html\"\n",
       "    frameborder=\"0\"\n",
       "    allowfullscreen\n",
       "></iframe>\n"
      ]
     },
     "metadata": {},
     "output_type": "display_data"
    }
   ],
   "source": [
    "# proc_df_data_quality_check = df_data_quality_check.groupby(\"date\")[\"signalID\"].size().reset_index()\n",
    "\n",
    "# # Generate all dates in June 2024\n",
    "# dates = pd.date_range(start=\"2024-06-01\", end=\"2024-06-30\")\n",
    "\n",
    "# # Plotly bar chart\n",
    "# fig = px.bar(proc_df_data_quality_check, x='date', y='signalID')\n",
    "\n",
    "# # Update layout\n",
    "# fig.update_layout(\n",
    "#     height=600,  # Adjust height for readability\n",
    "#     width=1400\n",
    "# )\n",
    "\n",
    "# # Update x-axis for custom tick formatting\n",
    "# fig.update_xaxes(\n",
    "#     title_text=\"Date (Year: 2024)\",\n",
    "#     # tickmode=\"linear\",  # Ensures all dates are shown if evenly spaced\n",
    "#     tickmode=\"array\",  # Use array mode to specify all ticks explicitly\n",
    "#     tickvals=dates.strftime('%Y-%m-%d').tolist(),  # Use string format of date values for alignment\n",
    "#     ticktext=dates.strftime('%B %d').tolist(),  # Custom tick labels in \"Month Day\" format\n",
    "#     tickangle=-45,  # Rotate tick labels for readability\n",
    "#     title_font=dict(size=16),\n",
    "#     tickfont=dict(size=16),\n",
    "# )\n",
    "\n",
    "# # Update y-axis to show all unique signal IDs\n",
    "# fig.update_yaxes(\n",
    "#     title_text=\"Frequency of Intersections with Data\",\n",
    "#     tickmode=\"array\",  # Ensure all unique IDs are shown\n",
    "#     tickvals=proc_df_data_quality_check['signalID'].unique(),  # Unique values for the y-axis\n",
    "#     title_font=dict(size=16),\n",
    "#     tickfont=dict(size=16),\n",
    "# )\n",
    "\n",
    "# # Show the figure\n",
    "# fig.show()"
   ]
  },
  {
   "cell_type": "code",
   "execution_count": 56,
   "metadata": {},
   "outputs": [
    {
     "data": {
      "text/html": [
       "<iframe\n",
       "    scrolling=\"no\"\n",
       "    width=\"1520px\"\n",
       "    height=\"620\"\n",
       "    src=\"iframe_figures/figure_56.html\"\n",
       "    frameborder=\"0\"\n",
       "    allowfullscreen\n",
       "></iframe>\n"
      ]
     },
     "metadata": {},
     "output_type": "display_data"
    }
   ],
   "source": [
    "# proc_df_data_quality_check = df_data_quality_check.copy()\n",
    "\n",
    "# # Generate all dates in June 2024\n",
    "# dates = pd.date_range(start=\"2024-06-01\", end=\"2024-06-30\")\n",
    "\n",
    "# fig = px.line(\n",
    "#     proc_df_data_quality_check,\n",
    "#     x=\"date\",\n",
    "#     y=\"errorSequencePercent\",\n",
    "#     color=\"signalID\",  # Group lines by signalID\n",
    "#     line_shape=\"spline\",  # Smooth lines\n",
    "#     # title=\"Error Sequence Percentage Over Time by Signal ID\",\n",
    "#     # hover_data={\"date\": \"|%B %d, %Y\"}  # Customize hover to show date in 'Month Day, Year' format\n",
    "# )\n",
    "\n",
    "# # Customize the x-axis for better date formatting\n",
    "# fig.update_xaxes(\n",
    "#     # dtick=\"D1\",  # Adjust to show ticks for every day\n",
    "#     # tickformat=\"%d %b\",  # Format ticks as 'Day Month' (e.g., '01 Jun')\n",
    "#     # title=\"Date\"\n",
    "#     title_text=\"Date (Year: 2024)\",\n",
    "#     # tickmode=\"linear\",  # Ensures all dates are shown if evenly spaced\n",
    "#     tickmode=\"array\",  # Use array mode to specify all ticks explicitly\n",
    "#     tickvals=dates.strftime('%Y-%m-%d').tolist(),  # Use string format of date values for alignment\n",
    "#     ticktext=dates.strftime('%B %d').tolist(),  # Custom tick labels in \"Month Day\" format\n",
    "#     tickangle=-45,  # Rotate tick labels for readability\n",
    "#     title_font=dict(size=16),\n",
    "#     tickfont=dict(size=16),\n",
    "# )\n",
    "\n",
    "# # Customize the y-axis\n",
    "# fig.update_yaxes(\n",
    "#     title=\"Error Sequence Percentage (%)\",\n",
    "#     title_font=dict(size=16),\n",
    "#     tickfont=dict(size=16),\n",
    "# )\n",
    "\n",
    "# # Update layout for readability\n",
    "# fig.update_layout(\n",
    "#     height=600,\n",
    "#     width=1500,\n",
    "#     # margin=dict(l=50, r=50, t=100, b=50),\n",
    "#     legend_title=\"Signal ID\",\n",
    "#     font=dict(size=14)\n",
    "# )\n",
    "\n",
    "# # Show the plot\n",
    "# fig.show()\n"
   ]
  },
  {
   "cell_type": "code",
   "execution_count": null,
   "metadata": {},
   "outputs": [],
   "source": []
  },
  {
   "cell_type": "code",
   "execution_count": null,
   "metadata": {},
   "outputs": [],
   "source": []
  },
  {
   "cell_type": "code",
   "execution_count": null,
   "metadata": {},
   "outputs": [],
   "source": []
  },
  {
   "cell_type": "code",
   "execution_count": null,
   "metadata": {},
   "outputs": [],
   "source": []
  },
  {
   "cell_type": "code",
   "execution_count": null,
   "metadata": {},
   "outputs": [],
   "source": []
  },
  {
   "cell_type": "code",
   "execution_count": null,
   "metadata": {},
   "outputs": [],
   "source": []
  },
  {
   "cell_type": "code",
   "execution_count": null,
   "metadata": {},
   "outputs": [],
   "source": []
  },
  {
   "cell_type": "code",
   "execution_count": null,
   "metadata": {},
   "outputs": [],
   "source": []
  }
 ],
 "metadata": {
  "kernelspec": {
   "display_name": "Python 3 (ipykernel)",
   "language": "python",
   "name": "python3"
  },
  "language_info": {
   "codemirror_mode": {
    "name": "ipython",
    "version": 3
   },
   "file_extension": ".py",
   "mimetype": "text/x-python",
   "name": "python",
   "nbconvert_exporter": "python",
   "pygments_lexer": "ipython3",
   "version": "3.10.0"
  }
 },
 "nbformat": 4,
 "nbformat_minor": 4
}
