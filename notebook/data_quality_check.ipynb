{
 "cells": [
  {
   "cell_type": "markdown",
   "metadata": {
    "vscode": {
     "languageId": "plaintext"
    }
   },
   "source": [
    "# Import Libraries"
   ]
  },
  {
   "cell_type": "code",
   "execution_count": 1,
   "metadata": {},
   "outputs": [],
   "source": [
    "import warnings\n",
    "warnings.simplefilter(action='ignore', category=FutureWarning)"
   ]
  },
  {
   "cell_type": "code",
   "execution_count": 2,
   "metadata": {},
   "outputs": [],
   "source": [
    "import numpy as np\n",
    "import pandas as pd\n",
    "import psutil\n",
    "import tqdm\n",
    "import yaml\n",
    "import glob\n",
    "import os\n",
    "import gc\n",
    "\n",
    "from datetime import datetime\n",
    "from multiprocessing import Pool\n",
    "from IPython.display import clear_output"
   ]
  },
  {
   "cell_type": "code",
   "execution_count": 3,
   "metadata": {},
   "outputs": [],
   "source": [
    "from src.components.feature_extraction import data_quality_check\n",
    "from src.utils import get_root_directory"
   ]
  },
  {
   "cell_type": "code",
   "execution_count": 4,
   "metadata": {},
   "outputs": [],
   "source": [
    "# Get root directory of the project\n",
    "root_dir = get_root_directory()"
   ]
  },
  {
   "cell_type": "code",
   "execution_count": 5,
   "metadata": {},
   "outputs": [],
   "source": [
    "# Maximize Column Display \n",
    "pd.set_option('display.max_colwidth', None)     # Display all content within each cell without truncation\n",
    "pd.set_option('display.max_columns', None)      # Display all columns\n",
    "pd.set_option('display.width', None)            # Display entire width of DataFrame is displayed\n",
    "\n",
    "pd.set_option('display.max_rows', None)         # Display all rows"
   ]
  },
  {
   "cell_type": "code",
   "execution_count": 6,
   "metadata": {},
   "outputs": [
    {
     "name": "stdout",
     "output_type": "stream",
     "text": [
      "Current CPU usage: 11.3%\n",
      "CPU usage per core: [13.3, 10.2, 12.0, 9.0, 14.0, 39.6, 18.2, 13.5, 7.2, 9.0, 9.1, 9.1]\n",
      "Total CPU cores: 12\n"
     ]
    }
   ],
   "source": [
    "# Get the current CPU usage as a percentage\n",
    "cpu_usage = psutil.cpu_percent(interval=1)  # Interval of 1 second\n",
    "print(f\"Current CPU usage: {cpu_usage}%\")\n",
    "\n",
    "# Get the per-core usage\n",
    "cpu_per_core = psutil.cpu_percent(interval=1, percpu=True)\n",
    "print(f\"CPU usage per core: {cpu_per_core}\")\n",
    "\n",
    "# Get the total number of cores\n",
    "cpu_cores = psutil.cpu_count()\n",
    "print(f\"Total CPU cores: {cpu_cores}\")"
   ]
  },
  {
   "cell_type": "markdown",
   "metadata": {},
   "source": [
    "# Extract Traffic Signal Profile"
   ]
  },
  {
   "cell_type": "markdown",
   "metadata": {},
   "source": [
    "## FDOT D5"
   ]
  },
  {
   "cell_type": "code",
   "execution_count": null,
   "metadata": {
    "scrolled": true
   },
   "outputs": [],
   "source": [
    "# Configurations\n",
    "signal_ids = [\n",
    "    \"1285\", \"1290\",\n",
    "    \"1300\", \"1315\", \"1325\", \"1330\", \n",
    "    \"1455\", \"1470\", \"1490\",\n",
    "    \"1500\", \"1555\",\n",
    "    \"1707\", \"1725\", \"1790\", \"1795\", \n",
    "    \"1960\",\n",
    "    \"2055\", \n",
    "    \"2485\", \n",
    "    \"2665\", \n",
    "    # \"D5I-3000\"\n",
    "]"
   ]
  },
  {
   "cell_type": "code",
   "execution_count": null,
   "metadata": {
    "scrolled": true
   },
   "outputs": [],
   "source": [
    "for signal_id in signal_ids:\n",
    "    print(f\"Processing Signal ID: {signal_id}\")\n",
    "    print(\"=\" * 40)\n",
    "\n",
    "    # Define the filepaths\n",
    "    filepaths = f\"../data/interim/atspm/fdot_d5/event_data/{signal_id}/*.pkl\"\n",
    "    filepaths = [p for p in glob.glob(filepaths)][1:]  # Exclude first file, if needed\n",
    "\n",
    "    # Extract dates from filepaths\n",
    "    dates = [os.path.basename(filepath).split(\".\")[0] for filepath in filepaths]\n",
    "\n",
    "    for date in dates:\n",
    "        print(f\"  Processing Date: {date}\")\n",
    "\n",
    "        try:\n",
    "            # Parse the date string into a datetime object\n",
    "            date_object = datetime.strptime(date, '%Y-%m-%d')\n",
    "\n",
    "            # Extract day, month, and year\n",
    "            day = date_object.day\n",
    "            month = date_object.month\n",
    "            year = date_object.year\n",
    "\n",
    "            if month != 6:\n",
    "                continue\n",
    "\n",
    "            # Check data quality\n",
    "            checker = data_quality_check.DataQualityCheck(event_type=\"vehicle_signal\")\n",
    "            checker.check_data_quality(signal_id=signal_id, \n",
    "                                       day=day, month=month, year=year)\n",
    "\n",
    "        except Exception as e:\n",
    "            print(f\"Error Processing Date {date}: {e}\")\n",
    "\n",
    "    # Explicitly call garbage collector\n",
    "    gc.collect()\n",
    "\n",
    "    # Clear output after processing each Signal ID\n",
    "    clear_output(wait=True)"
   ]
  },
  {
   "cell_type": "markdown",
   "metadata": {},
   "source": [
    "## FDOT D7"
   ]
  },
  {
   "cell_type": "code",
   "execution_count": null,
   "metadata": {},
   "outputs": [],
   "source": []
  },
  {
   "cell_type": "code",
   "execution_count": null,
   "metadata": {},
   "outputs": [],
   "source": []
  },
  {
   "cell_type": "code",
   "execution_count": null,
   "metadata": {},
   "outputs": [],
   "source": []
  },
  {
   "cell_type": "code",
   "execution_count": null,
   "metadata": {},
   "outputs": [],
   "source": []
  },
  {
   "cell_type": "code",
   "execution_count": null,
   "metadata": {},
   "outputs": [],
   "source": []
  },
  {
   "cell_type": "code",
   "execution_count": null,
   "metadata": {},
   "outputs": [],
   "source": []
  },
  {
   "cell_type": "code",
   "execution_count": null,
   "metadata": {},
   "outputs": [],
   "source": []
  }
 ],
 "metadata": {
  "kernelspec": {
   "display_name": "Python 3 (ipykernel)",
   "language": "python",
   "name": "python3"
  },
  "language_info": {
   "codemirror_mode": {
    "name": "ipython",
    "version": 3
   },
   "file_extension": ".py",
   "mimetype": "text/x-python",
   "name": "python",
   "nbconvert_exporter": "python",
   "pygments_lexer": "ipython3",
   "version": "3.10.0"
  }
 },
 "nbformat": 4,
 "nbformat_minor": 4
}
