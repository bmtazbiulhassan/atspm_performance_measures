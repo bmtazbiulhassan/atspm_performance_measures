{
 "cells": [
  {
   "cell_type": "markdown",
   "metadata": {
    "vscode": {
     "languageId": "plaintext"
    }
   },
   "source": [
    "# Import Libraries"
   ]
  },
  {
   "cell_type": "code",
   "execution_count": null,
   "metadata": {},
   "outputs": [],
   "source": [
    "import warnings\n",
    "warnings.simplefilter(action='ignore', category=FutureWarning)"
   ]
  },
  {
   "cell_type": "code",
   "execution_count": null,
   "metadata": {},
   "outputs": [],
   "source": [
    "import numpy as np\n",
    "import pandas as pd\n",
    "import tqdm\n",
    "import yaml\n",
    "import glob\n",
    "import os\n",
    "import gc\n",
    "\n",
    "from datetime import datetime\n",
    "from IPython.display import clear_output"
   ]
  },
  {
   "cell_type": "code",
   "execution_count": null,
   "metadata": {},
   "outputs": [],
   "source": [
    "from src.components.feature_extraction import feature_extraction\n",
    "from src.utils import get_root_directory"
   ]
  },
  {
   "cell_type": "code",
   "execution_count": null,
   "metadata": {},
   "outputs": [],
   "source": [
    "# Get root directory of the project\n",
    "root_dir = get_root_directory()"
   ]
  },
  {
   "cell_type": "code",
   "execution_count": null,
   "metadata": {},
   "outputs": [],
   "source": [
    "# Maximize Column Display \n",
    "pd.set_option('display.max_colwidth', None)     # Display all content within each cell without truncation\n",
    "pd.set_option('display.max_columns', None)      # Display all columns\n",
    "pd.set_option('display.width', None)            # Display entire width of DataFrame is displayed\n",
    "\n",
    "pd.set_option('display.max_rows', None)         # Display all rows"
   ]
  },
  {
   "cell_type": "markdown",
   "metadata": {},
   "source": [
    "# Identify Detector Configuration Type"
   ]
  },
  {
   "cell_type": "code",
   "execution_count": null,
   "metadata": {},
   "outputs": [],
   "source": [
    "# # Configurations\n",
    "# signal_ids = [\n",
    "#     \"1285\", \"1290\",\n",
    "#     \"1300\", \"1315\", \"1325\", \"1330\", \n",
    "#     \"1455\", \"1470\", \"1490\",\n",
    "#     \"1500\", \"1555\",\n",
    "#     \"1707\", \"1725\", \"1790\", \"1795\", \n",
    "#     \"1960\",\n",
    "#     \"2055\", \n",
    "#     \"2485\", \n",
    "#     \"2665\", \n",
    "#     # \"D5I-3000\"\n",
    "# ]"
   ]
  },
  {
   "cell_type": "code",
   "execution_count": null,
   "metadata": {},
   "outputs": [],
   "source": [
    "# df_detector_config_type = pd.DataFrame()\n",
    "\n",
    "# for signal_id in tqdm.tqdm(signal_ids): \n",
    "#     df_config_id = pd.read_csv(f\"../data/interim/atspm/fdot_d5/signal_config/{signal_id}.csv\")\n",
    "\n",
    "#     dict_approach_types = {\n",
    "#         2: \"major\", 6: \"major\", 8: \"minor\", 4: \"minor\"\n",
    "#     }\n",
    "    \n",
    "#     phase_nos = [phase_no for phase_no in dict_approach_types.keys() if phase_no in df_config_id[\"phaseNo\"].unique()]\n",
    "#     dict_approaches = {\n",
    "#         df_config_id.query(\"phaseNo == @phase_no\")[\"approach\"].unique()[0]: phase_no for phase_no in phase_nos\n",
    "#     }\n",
    "    \n",
    "#     dict_detector_config_type_id = {\n",
    "#         \"signalID\": [], \"approachType\": [], \"approachDir\": [], \"phaseNo\": [], \"laneType\": [], \n",
    "#         \"withStopbar\": [], \"withSetback\": [], \"withDualSetback\": []\n",
    "#     }\n",
    "#     for approach in dict_approaches.keys():\n",
    "#         df_config_id_approach = (\n",
    "#             df_config_id[df_config_id[\"approach\"] == approach]\n",
    "#             .reset_index(drop=True)\n",
    "#         )\n",
    "#         approach_type = dict_approach_types[dict_approaches[approach]]\n",
    "#         approach_dir = approach.split()[-1][:-1]\n",
    "    \n",
    "#         lane_nos = sorted(df_config_id_approach[\"laneNoFromLeft\"].unique().tolist())\n",
    "#         for lane_no in lane_nos:\n",
    "#             df_config_id_lane = (\n",
    "#                 df_config_id_approach[df_config_id_approach[\"laneNoFromLeft\"] == lane_no]\n",
    "#                 .reset_index(drop=True)\n",
    "#             )\n",
    "#             phase_nos = [int(phase_no) for phase_no in df_config_id_lane[\"phaseNo\"].unique() if pd.notna(phase_no)]\n",
    "#             phase_no = phase_nos[0] if phase_nos != [] else 0\n",
    "            \n",
    "#             lane_type = df_config_id_lane[\"laneType\"].unique()[0]\n",
    "            \n",
    "#             distances = df_config_id_lane[\"stopBarDistance\"].unique().tolist()\n",
    "#             distances = [int(distance) for distance in distances if pd.notna(distance)]\n",
    "                \n",
    "#             if distances == []:\n",
    "#                 with_stopbar = 0; with_setback = 0; with_dual_setback = 0    \n",
    "#             else:\n",
    "#                 with_stopbar = 1 if 0 in distances else 0\n",
    "#                 distances = [distance for distance in distances if distance != 0]\n",
    "                \n",
    "#                 if distances == []:\n",
    "#                     with_setback = 0; with_dual_setback = 0  \n",
    "#                 else:\n",
    "#                     with_setback = 1 if len(distances) == 1 else 0\n",
    "#                     with_dual_setback = 1 if len(distances) > 1 else 0\n",
    "                \n",
    "    \n",
    "#             dict_detector_config_type_id[\"signalID\"].append(signal_id)\n",
    "#             dict_detector_config_type_id[\"approachType\"].append(approach_type)\n",
    "#             dict_detector_config_type_id[\"approachDir\"].append(approach_dir)\n",
    "#             dict_detector_config_type_id[\"phaseNo\"].append(phase_no)\n",
    "#             dict_detector_config_type_id[\"laneType\"].append(lane_type)\n",
    "#             dict_detector_config_type_id[\"withStopbar\"].append(with_stopbar)\n",
    "#             dict_detector_config_type_id[\"withSetback\"].append(with_setback)\n",
    "#             dict_detector_config_type_id[\"withDualSetback\"].append(with_dual_setback)\n",
    "    \n",
    "#     df_detector_config_type_id = pd.DataFrame(dict_detector_config_type_id)\n",
    "\n",
    "#     dict_detector_config_type_combos = {\n",
    "#         1: [0, 0, 0],\n",
    "#         2: [1, 0, 0],\n",
    "#         3: [0, 1, 0],\n",
    "#         4: [1, 1, 0],\n",
    "#         5: [0, 0, 1],\n",
    "#         6: [1, 0, 1]\n",
    "#     }\n",
    "\n",
    "#     dict_phase_lane_combos = {\n",
    "#         \"Left\": \"LL\",\n",
    "#         \"Through\": \"TT\",\n",
    "#         \"Right\": \"TR\"\n",
    "#     } # TT: through phase - through lane, LL: left-turn phase - left turning lane\n",
    "    \n",
    "#     phase_lane_combos = []; detector_config_type_ids = []\n",
    "#     for i in range(len(df_detector_config_type_id)):\n",
    "#         phase_no = df_detector_config_type_id[\"phaseNo\"][i]\n",
    "#         lane_type = df_detector_config_type_id[\"laneType\"][i]\n",
    "    \n",
    "#         if len(lane_type.split()) == 1:\n",
    "#             phase_lane_combos.append(dict_phase_lane_combos[lane_type]) \n",
    "#         else:\n",
    "#             if any(l in lane_type for l in [\"Through\", \"Right\"]) and (phase_no % 2 == 0):\n",
    "#                 phase_lane_combos.append(\"TS\")\n",
    "#             else:\n",
    "#                 phase_lane_combos.append(\"LS\")\n",
    "        \n",
    "#         combo = df_detector_config_type_id.iloc[i, -3:].values.tolist()\n",
    "    \n",
    "#         detector_config_type_id = [k for k, v in dict_detector_config_type_combos.items() if v == combo][0]\n",
    "#         detector_config_type_ids.append(detector_config_type_id)\n",
    "    \n",
    "#     df_detector_config_type_id[\"plCombo\"] = phase_lane_combos\n",
    "#     df_detector_config_type_id[\"type\"] = detector_config_type_ids\n",
    "\n",
    "#     df_detector_config_type_id = (\n",
    "#         df_detector_config_type_id.pivot_table(\n",
    "#             values=\"type\", \n",
    "#             index=[\"signalID\", \"approachType\", \"approachDir\"], \n",
    "#             columns=\"plCombo\", \n",
    "#             aggfunc=lambda x: \", \".join(x.unique().astype(str))  # Convert unique values to comma-separated strings\n",
    "#         )\n",
    "#         .reset_index()\n",
    "#     )\n",
    "    \n",
    "#     df_detector_config_type_id.columns.name = None  # Remove the column index name\n",
    "\n",
    "#     df_detector_config_type = pd.concat([df_detector_config_type, df_detector_config_type_id], \n",
    "#                                         axis=0, ignore_index=True)"
   ]
  },
  {
   "cell_type": "code",
   "execution_count": null,
   "metadata": {},
   "outputs": [],
   "source": [
    "# df_detector_config_type = (\n",
    "#     df_detector_config_type[[\"signalID\", \"approachType\", \"approachDir\", \"TT\", \"TR\", \"TS\", \"LL\", \"LS\"]]\n",
    "# )\n",
    "\n",
    "# df_detector_config_type.to_csv(\"../reports/detector_config_type.csv\", \n",
    "#                                index=False)"
   ]
  },
  {
   "cell_type": "code",
   "execution_count": null,
   "metadata": {},
   "outputs": [],
   "source": []
  },
  {
   "cell_type": "code",
   "execution_count": null,
   "metadata": {},
   "outputs": [],
   "source": []
  },
  {
   "cell_type": "code",
   "execution_count": null,
   "metadata": {},
   "outputs": [],
   "source": []
  },
  {
   "cell_type": "code",
   "execution_count": null,
   "metadata": {},
   "outputs": [],
   "source": []
  }
 ],
 "metadata": {
  "kernelspec": {
   "display_name": "Python 3 (ipykernel)",
   "language": "python",
   "name": "python3"
  },
  "language_info": {
   "codemirror_mode": {
    "name": "ipython",
    "version": 3
   },
   "file_extension": ".py",
   "mimetype": "text/x-python",
   "name": "python",
   "nbconvert_exporter": "python",
   "pygments_lexer": "ipython3",
   "version": "3.10.0"
  }
 },
 "nbformat": 4,
 "nbformat_minor": 4
}
