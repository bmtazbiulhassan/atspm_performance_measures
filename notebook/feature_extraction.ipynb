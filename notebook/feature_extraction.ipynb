{
 "cells": [
  {
   "cell_type": "markdown",
   "metadata": {
    "vscode": {
     "languageId": "plaintext"
    }
   },
   "source": [
    "# Import Libraries"
   ]
  },
  {
   "cell_type": "code",
   "execution_count": 1,
   "metadata": {},
   "outputs": [],
   "source": [
    "import warnings\n",
    "warnings.simplefilter(action='ignore', category=FutureWarning)"
   ]
  },
  {
   "cell_type": "code",
   "execution_count": 2,
   "metadata": {},
   "outputs": [],
   "source": [
    "import numpy as np\n",
    "import pandas as pd\n",
    "import tqdm\n",
    "import yaml\n",
    "import glob\n",
    "import os\n",
    "import gc\n",
    "\n",
    "from datetime import datetime\n",
    "from IPython.display import clear_output"
   ]
  },
  {
   "cell_type": "code",
   "execution_count": 3,
   "metadata": {},
   "outputs": [],
   "source": [
    "from src.components.feature_extraction import feature_extraction\n",
    "from src.utils import get_root_directory"
   ]
  },
  {
   "cell_type": "code",
   "execution_count": 4,
   "metadata": {},
   "outputs": [],
   "source": [
    "# Get root directory of the project\n",
    "root_dir = get_root_directory()"
   ]
  },
  {
   "cell_type": "code",
   "execution_count": 5,
   "metadata": {},
   "outputs": [],
   "source": [
    "# Maximize Column Display \n",
    "pd.set_option('display.max_colwidth', None)     # Display all content within each cell without truncation\n",
    "pd.set_option('display.max_columns', None)      # Display all columns\n",
    "pd.set_option('display.width', None)            # Display entire width of DataFrame is displayed\n",
    "\n",
    "pd.set_option('display.max_rows', None)         # Display all rows"
   ]
  },
  {
   "cell_type": "markdown",
   "metadata": {},
   "source": [
    "# Extract Traffic Signal Profile"
   ]
  },
  {
   "cell_type": "markdown",
   "metadata": {},
   "source": [
    "## FDOT D5"
   ]
  },
  {
   "cell_type": "code",
   "execution_count": 6,
   "metadata": {},
   "outputs": [],
   "source": [
    "# # Configurations\n",
    "# signal_id = '1080'\n",
    "# day = 19; month = 9; year = 2024 "
   ]
  },
  {
   "cell_type": "code",
   "execution_count": 7,
   "metadata": {},
   "outputs": [],
   "source": [
    "# # Extract Traffic Signal Profile\n",
    "# traffic_signal_profile = feature_extraction.TrafficSignalProfile(day=day, \n",
    "#                                                                  month=month, \n",
    "#                                                                  year=year)\n",
    "\n",
    "# df_vehicle_phase_profile_id = traffic_signal_profile.extract_vehicle_phase_profile(signal_id=signal_id)\n",
    "# df_vehicle_cycle_profile_id = traffic_signal_profile.extract_vehicle_cycle_profile(signal_id=signal_id)"
   ]
  },
  {
   "cell_type": "code",
   "execution_count": 8,
   "metadata": {},
   "outputs": [],
   "source": [
    "# # Extract signal features\n",
    "# signal_feature_extract = feature_extraction.SignalFeatureExtract(day=day, \n",
    "#                                                                  month=month, \n",
    "#                                                                  year=year)\n",
    "# df_spat_id = signal_feature_extract.extract_spat(signal_id=signal_id) "
   ]
  },
  {
   "cell_type": "code",
   "execution_count": 9,
   "metadata": {},
   "outputs": [],
   "source": [
    "# # Extract traffic features\n",
    "# traffic_feature_extract = feature_extraction.TrafficFeatureExtract(day=day, \n",
    "#                                                                    month=month,\n",
    "#                                                                    year=year)"
   ]
  },
  {
   "cell_type": "code",
   "execution_count": 10,
   "metadata": {},
   "outputs": [],
   "source": [
    "# # Volume\n",
    "# df_volume_id = traffic_feature_extract.extract_volume(signal_id=signal_id)"
   ]
  },
  {
   "cell_type": "code",
   "execution_count": 11,
   "metadata": {
    "scrolled": true
   },
   "outputs": [],
   "source": [
    "# # Occupancy\n",
    "# df_occupancy_id = traffic_feature_extract.extract_occupancy(signal_id=signal_id)"
   ]
  },
  {
   "cell_type": "code",
   "execution_count": 12,
   "metadata": {},
   "outputs": [],
   "source": [
    "# # Headway\n",
    "# df_headway_id = traffic_feature_extract.extract_headway(signal_id=signal_id)"
   ]
  },
  {
   "cell_type": "code",
   "execution_count": 13,
   "metadata": {},
   "outputs": [],
   "source": [
    "# # Red Light Running\n",
    "# df_red_running_id = traffic_feature_extract.extract_red_running(signal_id=signal_id)"
   ]
  },
  {
   "cell_type": "code",
   "execution_count": 14,
   "metadata": {},
   "outputs": [],
   "source": [
    "# # Dilemma Zone Running\n",
    "# df_dilemma_running_id = traffic_feature_extract.extract_dilemma_running(signal_id=signal_id)"
   ]
  },
  {
   "cell_type": "markdown",
   "metadata": {},
   "source": [
    "## FDOT D7"
   ]
  },
  {
   "cell_type": "code",
   "execution_count": 18,
   "metadata": {},
   "outputs": [],
   "source": [
    "# # Configurations\n",
    "# signal_ids = [\"1301\", \"1435\", \"1439\"]"
   ]
  },
  {
   "cell_type": "code",
   "execution_count": 17,
   "metadata": {
    "scrolled": true
   },
   "outputs": [],
   "source": [
    "# for signal_id in signal_ids:\n",
    "#     print(f\"Processing Signal ID: {signal_id}\")\n",
    "#     print(\"=\" * 40)\n",
    "\n",
    "#     # Define the filepaths\n",
    "#     filepaths = f\"../data/interim/atspm/fdot_d7/event_data/{signal_id}/*.pkl\"\n",
    "#     filepaths = [p for p in glob.glob(filepaths)][1:]  # Exclude first file, if needed\n",
    "\n",
    "#     # Extract dates from filepaths\n",
    "#     dates = [os.path.basename(filepath).split(\".\")[0] for filepath in filepaths]\n",
    "\n",
    "#     for date in dates:\n",
    "#         print(f\"  Processing Date: {date}\")\n",
    "\n",
    "#         try:\n",
    "#             # Parse the date string into a datetime object\n",
    "#             date_object = datetime.strptime(date, '%Y-%m-%d')\n",
    "\n",
    "#             # Extract day, month, and year\n",
    "#             day = date_object.day\n",
    "#             month = date_object.month\n",
    "#             year = date_object.year\n",
    "\n",
    "#             # # Extract Traffic Signal Profile\n",
    "#             # traffic_signal_profile = feature_extraction.TrafficSignalProfile(day=day, \n",
    "#             #                                                                  month=month, \n",
    "#             #                                                                  year=year)\n",
    "#             # df_vehicle_phase_profile_id = traffic_signal_profile.extract_vehicle_phase_profile(signal_id=signal_id)\n",
    "#             # df_vehicle_cycle_profile_id = traffic_signal_profile.extract_vehicle_cycle_profile(signal_id=signal_id)\n",
    "\n",
    "#             # # Extract signal features\n",
    "#             # signal_feature_extract = feature_extraction.SignalFeatureExtract(day=day, \n",
    "#             #                                                                  month=month, \n",
    "#             #                                                                  year=year)\n",
    "\n",
    "#             # print(\"   # Extracting SPaT\")\n",
    "#             # df_spat_id = signal_feature_extract.extract_spat(signal_id=signal_id)\n",
    "\n",
    "#             # Extract traffic features\n",
    "#             traffic_feature_extract = feature_extraction.TrafficFeatureExtract(day=day, \n",
    "#                                                                                month=month,\n",
    "#                                                                                year=year)\n",
    "#             # # Occupancy\n",
    "#             # print(\"   # Extracting Occupancy\")\n",
    "#             # df_occupancy_id = traffic_feature_extract.extract_occupancy(signal_id=signal_id)\n",
    "\n",
    "#             # Split Failure\n",
    "#             print(\"   # Extracting Split Failure\")\n",
    "#             df_spli_failure_id = traffic_feature_extract.extract_split_failure(signal_id=signal_id)\n",
    "            \n",
    "#             # Red Light Running\n",
    "#             print(\"   # Extracting Red Light Running\")\n",
    "#             df_red_running_id = traffic_feature_extract.extract_red_running(signal_id=signal_id, \n",
    "#                                                                             with_countbar=True)\n",
    "\n",
    "#         except Exception as e:\n",
    "#             print(f\"Error Processing Date {date}: {e}\")\n",
    "\n",
    "#     # Explicitly call garbage collector\n",
    "#     gc.collect()\n",
    "\n",
    "#     # Clear output after processing each Signal ID\n",
    "#     clear_output(wait=True)"
   ]
  },
  {
   "cell_type": "code",
   "execution_count": null,
   "metadata": {},
   "outputs": [],
   "source": []
  },
  {
   "cell_type": "code",
   "execution_count": null,
   "metadata": {},
   "outputs": [],
   "source": []
  },
  {
   "cell_type": "code",
   "execution_count": null,
   "metadata": {},
   "outputs": [],
   "source": []
  },
  {
   "cell_type": "code",
   "execution_count": null,
   "metadata": {},
   "outputs": [],
   "source": []
  },
  {
   "cell_type": "code",
   "execution_count": null,
   "metadata": {},
   "outputs": [],
   "source": []
  },
  {
   "cell_type": "code",
   "execution_count": null,
   "metadata": {},
   "outputs": [],
   "source": []
  },
  {
   "cell_type": "code",
   "execution_count": null,
   "metadata": {},
   "outputs": [],
   "source": []
  },
  {
   "cell_type": "code",
   "execution_count": null,
   "metadata": {},
   "outputs": [],
   "source": []
  }
 ],
 "metadata": {
  "kernelspec": {
   "display_name": "Python 3 (ipykernel)",
   "language": "python",
   "name": "python3"
  },
  "language_info": {
   "codemirror_mode": {
    "name": "ipython",
    "version": 3
   },
   "file_extension": ".py",
   "mimetype": "text/x-python",
   "name": "python",
   "nbconvert_exporter": "python",
   "pygments_lexer": "ipython3",
   "version": "3.10.0"
  }
 },
 "nbformat": 4,
 "nbformat_minor": 4
}
