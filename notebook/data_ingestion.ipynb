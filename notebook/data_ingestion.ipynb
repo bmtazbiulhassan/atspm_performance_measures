{
 "cells": [
  {
   "cell_type": "markdown",
   "metadata": {
    "vscode": {
     "languageId": "plaintext"
    }
   },
   "source": [
    "# Import Libraries"
   ]
  },
  {
   "cell_type": "code",
   "execution_count": null,
   "metadata": {},
   "outputs": [],
   "source": [
    "import warnings\n",
    "warnings.simplefilter(action='ignore', category=FutureWarning)"
   ]
  },
  {
   "cell_type": "code",
   "execution_count": null,
   "metadata": {},
   "outputs": [],
   "source": [
    "import numpy as np\n",
    "import pandas as pd\n",
    "import tqdm\n",
    "import yaml\n",
    "import os"
   ]
  },
  {
   "cell_type": "code",
   "execution_count": null,
   "metadata": {},
   "outputs": [],
   "source": [
    "from src.components.data_ingestion import data_scraping, data_sorting, data_preprocessing\n",
    "from src.utils import get_root_directory"
   ]
  },
  {
   "cell_type": "code",
   "execution_count": null,
   "metadata": {},
   "outputs": [],
   "source": [
    "# Get root directory of the project\n",
    "root_dir = get_root_directory()"
   ]
  },
  {
   "cell_type": "code",
   "execution_count": null,
   "metadata": {},
   "outputs": [],
   "source": [
    "# Maximize Column Display \n",
    "pd.set_option('display.max_colwidth', None)     # Display all content within each cell without truncation\n",
    "pd.set_option('display.max_columns', None)      # Display all columns\n",
    "pd.set_option('display.width', None)            # Display entire width of DataFrame is displayed\n",
    "\n",
    "pd.set_option('display.max_rows', None)         # Display all rows"
   ]
  },
  {
   "cell_type": "markdown",
   "metadata": {},
   "source": [
    "# Web Scraping"
   ]
  },
  {
   "cell_type": "markdown",
   "metadata": {},
   "source": [
    "## NOEMI Reports"
   ]
  },
  {
   "cell_type": "code",
   "execution_count": null,
   "metadata": {},
   "outputs": [],
   "source": [
    "# # Load NOEMI report summary\n",
    "# df_report_summary_noemi = pd.read_csv('../data/raw/atspm/fdot_d5/noemi_report/noemi_report_summary.csv')\n",
    "\n",
    "# print(df_report_summary_noemi.shape)\n",
    "# df_report_summary_noemi.head(1)"
   ]
  },
  {
   "cell_type": "code",
   "execution_count": null,
   "metadata": {},
   "outputs": [],
   "source": [
    "# for i in tqdm.tqdm(range(len(df_report_summary_noemi))):\n",
    "#     signal_id = df_report_summary_noemi.loc[i, 'atspmID']\n",
    "#     siia_id = df_report_summary_noemi.loc[i, 'siiaID']\n",
    "\n",
    "#     data_scraping.scrape_noemi_report(signal_id=signal_id, siia_id=siia_id)"
   ]
  },
  {
   "cell_type": "markdown",
   "metadata": {},
   "source": [
    "## ATSPM Event Data"
   ]
  },
  {
   "cell_type": "code",
   "execution_count": null,
   "metadata": {},
   "outputs": [],
   "source": [
    "# data_scraping.scrape_event_data(day=1, month=10, year=2024)"
   ]
  },
  {
   "cell_type": "markdown",
   "metadata": {},
   "source": [
    "# Data Sorting"
   ]
  },
  {
   "cell_type": "markdown",
   "metadata": {},
   "source": [
    "## ATSPM Event Data"
   ]
  },
  {
   "cell_type": "code",
   "execution_count": null,
   "metadata": {},
   "outputs": [],
   "source": [
    "# # Load the YAML configuration file (using absolute path)\n",
    "# with open(os.path.join(root_dir, \"config.yaml\"), \"r\") as file:\n",
    "#     config = yaml.safe_load(file)\n",
    "\n",
    "# config = config[\"data_sorting\"]\n",
    "\n",
    "# relative_event_import_parent_dir = config[\"sunstore\"][\"relative_event_import_parent_dir\"]\n",
    "# relative_event_export_parent_dir = config[\"sunstore\"][\"relative_event_export_parent_dir\"]"
   ]
  },
  {
   "cell_type": "code",
   "execution_count": null,
   "metadata": {},
   "outputs": [],
   "source": [
    "# data_sort = data_sorting.DataSort(relative_event_import_parent_dir=relative_event_import_parent_dir,\n",
    "#                                   relative_event_export_parent_dir=relative_event_export_parent_dir)"
   ]
  },
  {
   "cell_type": "code",
   "execution_count": null,
   "metadata": {},
   "outputs": [],
   "source": [
    "# # Load NOEMI report summary\n",
    "# df_report_summary_noemi = pd.read_csv('../data/raw/atspm/fdot_d5/noemi_report/noemi_report_summary.csv')\n",
    "\n",
    "# # print(df_report_summary_noemi.shape)\n",
    "# # df_report_summary_noemi.head(1)"
   ]
  },
  {
   "cell_type": "code",
   "execution_count": null,
   "metadata": {},
   "outputs": [],
   "source": [
    "# signal_ids = list(df_report_summary_noemi.atspmID.unique())"
   ]
  },
  {
   "cell_type": "code",
   "execution_count": null,
   "metadata": {},
   "outputs": [],
   "source": [
    "# data_sort.sort_and_export(signal_ids=signal_ids, day=19, month=9, year=2024)"
   ]
  },
  {
   "cell_type": "markdown",
   "metadata": {},
   "source": [
    "# Pre-Processing"
   ]
  },
  {
   "cell_type": "markdown",
   "metadata": {},
   "source": [
    "## NOEMI Reports"
   ]
  },
  {
   "cell_type": "code",
   "execution_count": null,
   "metadata": {},
   "outputs": [],
   "source": [
    "# # Load the YAML configuration file (using absolute path)\n",
    "# with open(os.path.join(root_dir, \"config.yaml\"), \"r\") as file:\n",
    "#     config = yaml.safe_load(file)\n",
    "\n",
    "# config = config[\"data_preprocessing\"]\n",
    "\n",
    "# relative_report_import_parent_dir = config[\"noemi\"][\"relative_report_import_parent_dir\"]\n",
    "# relative_report_export_dir = config[\"noemi\"][\"relative_report_export_dir\"]"
   ]
  },
  {
   "cell_type": "code",
   "execution_count": null,
   "metadata": {},
   "outputs": [],
   "source": [
    "# data_preprocessing.preprocess_noemi_reports(relative_report_import_parent_dir=relative_report_import_parent_dir, \n",
    "#                                             relative_report_export_dir=relative_report_export_dir)"
   ]
  },
  {
   "cell_type": "code",
   "execution_count": null,
   "metadata": {},
   "outputs": [],
   "source": []
  },
  {
   "cell_type": "code",
   "execution_count": null,
   "metadata": {},
   "outputs": [],
   "source": []
  },
  {
   "cell_type": "code",
   "execution_count": null,
   "metadata": {},
   "outputs": [],
   "source": []
  },
  {
   "cell_type": "code",
   "execution_count": null,
   "metadata": {},
   "outputs": [],
   "source": []
  },
  {
   "cell_type": "code",
   "execution_count": null,
   "metadata": {},
   "outputs": [],
   "source": []
  }
 ],
 "metadata": {
  "kernelspec": {
   "display_name": "Python 3 (ipykernel)",
   "language": "python",
   "name": "python3"
  },
  "language_info": {
   "codemirror_mode": {
    "name": "ipython",
    "version": 3
   },
   "file_extension": ".py",
   "mimetype": "text/x-python",
   "name": "python",
   "nbconvert_exporter": "python",
   "pygments_lexer": "ipython3",
   "version": "3.10.0"
  }
 },
 "nbformat": 4,
 "nbformat_minor": 4
}
